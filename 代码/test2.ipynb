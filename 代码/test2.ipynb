{
 "cells": [
  {
   "cell_type": "code",
   "execution_count": 5,
   "metadata": {},
   "outputs": [
    {
     "name": "stdout",
     "output_type": "stream",
     "text": [
      "最优解为: 2.0\n",
      "x的取值为 [0. 1. 0. 0. 0. 0. 0. 0. 1. 0.]\n"
     ]
    }
   ],
   "source": [
    "##\n",
    "import cvxpy as cp\n",
    "import numpy as np\n",
    "\n",
    "a = np.array([[9.4888,9.7928,11.5960,11.5643,5.6756,9.8497,9.1756,13.1385,15.4663,15.5464],\n",
    "              [5.6817,10.3868,3.9294,4.4325,9.9658,17.6632,6.1517,11.8569,8.8721,15.5868]])\n",
    "\n",
    "d = np.zeros((10,10))\n",
    "for i in range(10):\n",
    "    for j in range(10):\n",
    "        # 距离公式 \n",
    "        d[i,j] = np.sqrt(np.sum((a[:,i] - a[:,j]) ** 2))\n",
    "\n",
    "x = cp.Variable(10,integer = True)\n",
    "y = cp.Variable((10,10),integer = True)\n",
    "obj = cp.Minimize(cp.sum(x,axis=0))\n",
    "con = [\n",
    "    # sum(y) 是逐列求和 等价于cp.sum(x,axis=0)\n",
    "    # sum(y.T) 相当于对y逐行求和\n",
    "    cp.sum(y,axis=0) >= 1,cp.sum(y.T,axis=0) <= 5,\n",
    "    x >= 0,x <= 1, y >= 0,y <= 1\n",
    "]\n",
    "for i in range(10):\n",
    "    con.append(x[i] == y[i,i])\n",
    "    for j in range(10):\n",
    "        con.append(d[i,j] * y[i,j] <= 10 * x[i])\n",
    "        con.append(x[i] >= y[i,j])\n",
    "\n",
    "prob = cp.Problem(obj,con)\n",
    "prob.solve(solver='GLPK_MI')\n",
    "print('最优解为:',prob.value)\n",
    "print('x的取值为',x.value)\n",
    "\n",
    "\n",
    "\n",
    "\n",
    "\n"
   ]
  },
  {
   "cell_type": "code",
   "execution_count": 4,
   "metadata": {},
   "outputs": [
    {
     "name": "stdout",
     "output_type": "stream",
     "text": [
      "8\n"
     ]
    }
   ],
   "source": [
    "import numpy as np\n",
    "\n",
    "a = np.array([[1,3],[1,3]])\n",
    "print(np.sum((a[:,0] - a[:,1]) ** 2))\n",
    "\n",
    "\n"
   ]
  },
  {
   "cell_type": "code",
   "execution_count": 6,
   "metadata": {},
   "outputs": [
    {
     "name": "stdout",
     "output_type": "stream",
     "text": [
      "最优解为: 2.0\n",
      "x的取值为 [0. 1. 0. 0. 0. 0. 0. 0. 1. 0.]\n"
     ]
    }
   ],
   "source": [
    "##\n",
    "import cvxpy as cp\n",
    "import numpy as np\n",
    "\n",
    "a = np.array([[9.4888,9.7928,11.5960,11.5643,5.6756,9.8497,9.1756,13.1385,15.4663,15.5464],\n",
    "              [5.6817,10.3868,3.9294,4.4325,9.9658,17.6632,6.1517,11.8569,8.8721,15.5868]])\n",
    "\n",
    "d = np.zeros((10,10))\n",
    "for i in range(10):\n",
    "    for j in range(10):\n",
    "        # 距离公式 \n",
    "        d[i,j] = np.sqrt(sum((a[:,i] - a[:,j]) ** 2))\n",
    "\n",
    "x = cp.Variable(10,integer = True)\n",
    "y = cp.Variable((10,10),integer = True)\n",
    "obj = cp.Minimize(sum(x))\n",
    "con = [\n",
    "    # sum(y) 是逐列求和 等价于cp.sum(x,axis=0)\n",
    "    # sum(y.T) 相当于对y逐行求和\n",
    "    sum(y) >= 1,sum(y.T) <= 5,\n",
    "    x >= 0,x <= 1, y >= 0,y <= 1\n",
    "]\n",
    "for i in range(10):\n",
    "    con.append(x[i] == y[i,i])\n",
    "    for j in range(10):\n",
    "        con.append(d[i,j] * y[i,j] <= 10 * x[i])\n",
    "        con.append(x[i] >= y[i,j])\n",
    "\n",
    "prob = cp.Problem(obj,con)\n",
    "prob.solve(solver='GLPK_MI')\n",
    "print('最优解为:',prob.value)\n",
    "print('x的取值为',x.value)\n",
    "\n",
    "\n",
    "\n",
    "\n",
    "\n"
   ]
  },
  {
   "cell_type": "code",
   "execution_count": 7,
   "metadata": {},
   "outputs": [
    {
     "name": "stdout",
     "output_type": "stream",
     "text": [
      "w= [0.  0.1 0.2 0.3 0.4 0.5 0.6 0.7 0.8 0.9 1. ]\n",
      "v= [247.52 247.52 247.52 247.52 247.52 247.52 247.52 247.52  92.25  59.4\n",
      "   0.  ]\n",
      "Q= [2673.27 2673.27 2673.27 2673.27 2673.27 2673.27 2673.27 2673.27 2164.82\n",
      " 2016.24  500.  ]\n"
     ]
    },
    {
     "data": {
      "image/png": "[encoded data removed]",
      "text/plain": [
       "<Figure size 432x288 with 1 Axes>"
      ]
     },
     "metadata": {
      "needs_background": "light"
     },
     "output_type": "display_data"
    },
    {
     "data": {
      "text/plain": [
       "[array([   0.        , 9900.99009901,   -0.        ,   -0.        ,\n",
       "          -0.        ,  247.52475248]),\n",
       " array([   0.        , 9900.99009901,   -0.        ,   -0.        ,\n",
       "          -0.        ,  247.52475248]),\n",
       " array([   0.        , 9900.99009901,   -0.        ,   -0.        ,\n",
       "          -0.        ,  247.52475248]),\n",
       " array([   0.        , 9900.99009901,   -0.        ,   -0.        ,\n",
       "          -0.        ,  247.52475248]),\n",
       " array([   0.        , 9900.99009901,   -0.        ,   -0.        ,\n",
       "          -0.        ,  247.52475248]),\n",
       " array([   0.        , 9900.99009901,   -0.        ,   -0.        ,\n",
       "          -0.        ,  247.52475248]),\n",
       " array([   0.        , 9900.99009901,   -0.        ,   -0.        ,\n",
       "          -0.        ,  247.52475248]),\n",
       " array([ 1.93267624e-12,  9.90099010e+03,  0.00000000e+00, -0.00000000e+00,\n",
       "        -0.00000000e+00,  2.47524752e+02]),\n",
       " array([   0.        , 3690.03690037, 6150.06150062,   -0.        ,\n",
       "          -0.        ,   92.25092251]),\n",
       " array([   0.        , 2375.83953945, 3959.73256575, 1079.92706339,\n",
       "        2284.46109563,   59.39598849]),\n",
       " array([10000.,    -0.,    -0.,    -0.,    -0.,    -0.])]"
      ]
     },
     "execution_count": 7,
     "metadata": {},
     "output_type": "execute_result"
    }
   ],
   "source": [
    "import numpy as np\n",
    "import cvxpy as cp\n",
    "import pylab as plt\n",
    "\n",
    "\n",
    "plt.rc('font',family='SimHei')\n",
    "plt.rc('font',size =15)\n",
    "\n",
    "x = cp.Variable(6,pos = True)\n",
    "r = np.array([0.05,0.28,0.21,0.23,0.25])\n",
    "p = np.array([0,0.01,0.02,0.045,0.065])\n",
    "q = np.array([0,0.025,0.015,0.055,0.026])\n",
    "def LP(w):\n",
    "    V = [] #风险初始化\n",
    "    Q = [] # 收益初始化\n",
    "    X = [] # 最优解的初始化\n",
    "    con = [(1 + p) @ x[:-1] == 10000]\n",
    "\n",
    "    for i in range(1,5):\n",
    "        con.append(q[i] * x[i] <= x[5])\n",
    "    for i in range(len(w)):\n",
    "        obj = cp.Minimize(w[i] * x[5] - (1-w[i]) * ((r-p) @ x[:-1]))\n",
    "        prob = cp.Problem(obj,con)\n",
    "        prob.solve(solver = 'GLPK_MI') \n",
    "        xx = x.value\n",
    "        V.append(max(q * xx[:-1]))\n",
    "        Q.append((r-p) @ xx[:-1])\n",
    "        X.append(xx)\n",
    "    \n",
    "    print('w=',w)\n",
    "    print('v=',np.round(V,2))\n",
    "    print('Q=',np.round(Q,2))\n",
    "    plt.figure()\n",
    "    plt.plot(V,Q,'*-')\n",
    "    plt.grid('on')\n",
    "    plt.xlabel('风险(元)')\n",
    "    plt.ylabel('收益(元)')\n",
    "    plt.show()\n",
    "    return X\n",
    "w1 = np.arange(0,1.1,0.1)\n",
    "LP(w1)\n",
    "\n",
    "\n",
    "\n",
    "\n"
   ]
  },
  {
   "cell_type": "code",
   "execution_count": null,
   "metadata": {},
   "outputs": [],
   "source": []
  },
  {
   "cell_type": "code",
   "execution_count": null,
   "metadata": {},
   "outputs": [],
   "source": []
  },
  {
   "cell_type": "code",
   "execution_count": null,
   "metadata": {},
   "outputs": [],
   "source": []
  }
 ],
 "metadata": {
  "kernelspec": {
   "display_name": "base",
   "language": "python",
   "name": "python3"
  },
  "language_info": {
   "codemirror_mode": {
    "name": "ipython",
    "version": 3
   },
   "file_extension": ".py",
   "mimetype": "text/x-python",
   "name": "python",
   "nbconvert_exporter": "python",
   "pygments_lexer": "ipython3",
   "version": "3.9.12"
  },
  "orig_nbformat": 4
 },
 "nbformat": 4,
 "nbformat_minor": 2
}
