{
 "cells": [
  {
   "cell_type": "code",
   "execution_count": 7,
   "metadata": {},
   "outputs": [
    {
     "data": {
      "image/png": "[encoded data removed]",
      "text/plain": [
       "<Figure size 432x288 with 1 Axes>"
      ]
     },
     "metadata": {
      "needs_background": "light"
     },
     "output_type": "display_data"
    }
   ],
   "source": [
    "import matplotlib.pyplot as plt\n",
    "\n",
    "# 创建一个空白图形\n",
    "fig, ax = plt.subplots()\n",
    "ax.set_xlim(0,100)\n",
    "ax.set_ylim(0,100)\n",
    "\n",
    "\n",
    "# 去掉顶部的线\n",
    "ax.spines['top'].set_visible(False)\n",
    "# 去掉右边的线\n",
    "ax.spines['right'].set_visible(False)\n",
    "\n",
    "\n",
    "\n",
    "\n",
    "#设置显示的坐标点 点0和点100\n",
    "ax.set_xticks([0,100])\n",
    "ax.set_yticks([0,100])\n",
    "#设置显示坐标的的内容\n",
    "custom_xtick_labels = ['0','(100,0)']\n",
    "custom_ytick_labels = ['0','(0,100)']\n",
    "#显示坐标的要显示的内容\n",
    "ax.set_xticklabels(custom_xtick_labels)\n",
    "\n",
    "# 设置坐标轴标签\n",
    "ax.set_xlabel(\"X-axis\")\n",
    "ax.set_ylabel(\"Y-axis\")\n",
    "\n",
    "ax.plot([0,60],[60,60])\n",
    "\n",
    "plt.show()\n",
    "\n",
    "\n"
   ]
  },
  {
   "cell_type": "code",
   "execution_count": null,
   "metadata": {},
   "outputs": [],
   "source": [
    "\n"
   ]
  },
  {
   "cell_type": "code",
   "execution_count": 109,
   "metadata": {},
   "outputs": [
    {
     "data": {
      "image/png": "[encoded data removed]",
      "text/plain": [
       "<Figure size 576x576 with 1 Axes>"
      ]
     },
     "metadata": {
      "needs_background": "light"
     },
     "output_type": "display_data"
    }
   ],
   "source": [
    "import matplotlib.pyplot as plt\n",
    "import mpl_toolkits.axisartist as axisartist\n",
    "import numpy as np\n",
    "\n",
    "# 创建画布\n",
    "fig = plt.figure(figsize=(8,8))\n",
    "\n",
    "# 使用axisartist.Subplot方法创建一个绘图区对象ax\n",
    "ax = axisartist.Subplot(fig, 111)\n",
    "\n",
    "\n",
    "# 将绘图区对象添加到画布中\n",
    "fig.add_axes(ax)\n",
    "\n",
    "#fig,ax = plt.subplots()\n",
    "\n",
    "\n",
    "# 通过set_visible方法设置绘图区所有坐标轴隐藏\n",
    "ax.axis[:].set_visible(False)\n",
    "\n",
    "# ax.new_floating_axis代表添加新的坐标轴\n",
    "ax.axis[\"x\"] = ax.new_floating_axis(0, 0)\n",
    "# 给x坐标轴加上箭头\n",
    "ax.axis[\"x\"].set_axisline_style(\"-|>\", size=1.0)\n",
    "# 添加y坐标轴，且加上箭头\n",
    "ax.axis[\"y\"] = ax.new_floating_axis(1, 0)\n",
    "ax.axis[\"y\"].set_axisline_style(\"-|>\", size=1.0)\n",
    "\n",
    "\n",
    "# 设置x、y轴上刻度显示方向\n",
    "ax.axis[\"x\"].set_axis_direction(\"bottom\")\n",
    "ax.axis[\"y\"].set_axis_direction(\"left\")\n",
    "\n",
    "\n",
    "# 隐藏x轴的刻度线，保留刻度值\n",
    "ax.axis[\"x\"].major_ticks.set_visible(False)\n",
    "ax.axis[\"y\"].major_ticks.set_visible(False)\n",
    "\n",
    "ax.set_xlim(-0.1, 1)  # 设置x轴的范围\n",
    "ax.set_ylim(-0.1, 1)  # 设置y轴的范围\n",
    "\n",
    "\n",
    "# 设置显示的坐标点 点0和点10\n",
    "ax.set_xticks([0, 0.6])\n",
    "ax.set_yticks([0.6])\n",
    "\n",
    "\n",
    "\n",
    "# 设置显示坐标的的内容\n",
    "custom_xtick_labels = ['(0,0)', '(0.6,0)']\n",
    "custom_ytick_labels = ['(0,0.6)']\n",
    "\n",
    "# 显示坐标的要显示的内容\n",
    "ax.set_xticklabels(custom_xtick_labels)\n",
    "ax.set_yticklabels(custom_ytick_labels)\n",
    "\n",
    "\n",
    "\n",
    "# 设置x、y坐标轴的范围\n",
    "# plt.xlim(-0.1, 12)\n",
    "# plt.ylim(-0.1, 12)\n",
    "\n",
    "# # 绘制图形\n",
    "plt.plot([0, 0.60], [0.6, 0.6],c='b')\n",
    "\n",
    "# # 在(0,0)坐标点处添加一个圆点\n",
    "# plt.scatter(0, 0, color='red', marker='o',s = 100)\n",
    "\n",
    "\n",
    "plt.show()"
   ]
  },
  {
   "cell_type": "code",
   "execution_count": 140,
   "metadata": {},
   "outputs": [
    {
     "data": {
      "image/png": "[encoded data removed]",
      "text/plain": [
       "<Figure size 432x288 with 1 Axes>"
      ]
     },
     "metadata": {
      "needs_background": "light"
     },
     "output_type": "display_data"
    }
   ],
   "source": [
    "import matplotlib.pyplot as plt\n",
    "\n",
    "# 创建一个空白图形\n",
    "fig, ax = plt.subplots()\n",
    "ax.set_xlim(0,150)\n",
    "ax.set_ylim(0,150)\n",
    "\n",
    "\n",
    "\n",
    "\n",
    "\n",
    "# 去掉顶部的线\n",
    "ax.spines['top'].set_visible(False)\n",
    "# 去掉右边的线\n",
    "ax.spines['right'].set_visible(False)\n",
    "\n",
    "\n",
    "\n",
    "\n",
    "#设置显示的坐标点 点0和点100\n",
    "ax.set_xticks([0,100])\n",
    "\n",
    "\n",
    "#设置显示坐标的的内容\n",
    "custom_xtick_labels = ['(0,0)','(100,0)']\n",
    "\n",
    "#显示坐标的要显示的内容\n",
    "ax.set_xticklabels(custom_xtick_labels)\n",
    "\n",
    "# 设置坐标轴标签\n",
    "ax.set_xlabel(\"X-axis\")\n",
    "ax.set_ylabel(\"Y-axis\")\n",
    "\n",
    "ax.plot([0,60],[60,60])\n",
    "\n",
    "\n",
    "# make arrows\n",
    "ax.plot((1), (0), ls=\"\", marker=\">\", ms=8, color=\"k\",\n",
    "        transform=ax.get_yaxis_transform(), clip_on=False)\n",
    "ax.plot((0), (1), ls=\"\", marker=\"^\", ms=10, color=\"k\",\n",
    "        transform=ax.get_xaxis_transform(), clip_on=False)\n",
    "\n",
    "\n",
    "# 隐藏x轴的刻度线但保留刻度值\n",
    "ax.tick_params(axis='x', which='both', bottom=False, top=False)\n",
    "# 隐藏y轴的刻度线但保留刻度值\n",
    "ax.tick_params(axis='y', which='both', left=False, right=False)\n",
    "plt.show()"
   ]
  },
  {
   "cell_type": "code",
   "execution_count": null,
   "metadata": {},
   "outputs": [],
   "source": []
  },
  {
   "cell_type": "code",
   "execution_count": 45,
   "metadata": {},
   "outputs": [
    {
     "data": {
      "text/plain": [
       "Text(0, 0.5, 'dJ/dE = ${p^2}$f(p)')"
      ]
     },
     "execution_count": 45,
     "metadata": {},
     "output_type": "execute_result"
    },
    {
     "data": {
      "image/png": "[encoded data removed]",
      "text/plain": [
       "<Figure size 1008x432 with 1 Axes>"
      ]
     },
     "metadata": {
      "needs_background": "light"
     },
     "output_type": "display_data"
    }
   ],
   "source": [
    "import matplotlib.pyplot as plt\n",
    "import numpy as np\n",
    "\n",
    "fig = plt.figure(figsize=(14, 6))  \n",
    "ax1 = plt.axes([0.0, 0.0, 0.4, 0.80])\n",
    "\n",
    "ax1.spines['top'].set_visible(False)\n",
    "ax1.spines['right'].set_visible(False)\n",
    "\n",
    "\n",
    "# 绘制 x 轴方向的箭头\n",
    "plt.annotate('', \n",
    "             xy=(1.06, 0), xycoords='axes fraction',\n",
    "             xytext=(-0.06, 0), textcoords='axes fraction',\n",
    "             arrowprops=dict(facecolor='black', shrink=0.05),\n",
    "             zorder=5)\n",
    "# 绘制 y 轴方向的箭头\n",
    "plt.annotate('', \n",
    "             xy=(0, 1.06), xycoords='axes fraction',\n",
    "             xytext=(0, -0.06), textcoords='axes fraction',\n",
    "             arrowprops=dict(facecolor='black', shrink=0.05),\n",
    "             zorder=5)\n",
    "\n",
    "plt.xticks(fontsize=18)\n",
    "plt.yticks(fontsize=18)\n",
    "plt.xlabel('E (MeV/nuc)',fontsize=23)\n",
    "plt.ylabel('dJ/dE = ${p^2}$f(p)',fontsize=23)"
   ]
  },
  {
   "cell_type": "code",
   "execution_count": 106,
   "metadata": {},
   "outputs": [
    {
     "name": "stderr",
     "output_type": "stream",
     "text": [
      "e:\\Anaconda\\Anaconda\\lib\\site-packages\\IPython\\core\\pylabtools.py:151: UserWarning: Glyph 27491 (\\N{CJK UNIFIED IDEOGRAPH-6B63}) missing from current font.\n",
      "  fig.canvas.print_figure(bytes_io, **kw)\n",
      "e:\\Anaconda\\Anaconda\\lib\\site-packages\\IPython\\core\\pylabtools.py:151: UserWarning: Glyph 26041 (\\N{CJK UNIFIED IDEOGRAPH-65B9}) missing from current font.\n",
      "  fig.canvas.print_figure(bytes_io, **kw)\n",
      "e:\\Anaconda\\Anaconda\\lib\\site-packages\\IPython\\core\\pylabtools.py:151: UserWarning: Glyph 24418 (\\N{CJK UNIFIED IDEOGRAPH-5F62}) missing from current font.\n",
      "  fig.canvas.print_figure(bytes_io, **kw)\n",
      "e:\\Anaconda\\Anaconda\\lib\\site-packages\\IPython\\core\\pylabtools.py:151: UserWarning: Glyph 36724 (\\N{CJK UNIFIED IDEOGRAPH-8F74}) missing from current font.\n",
      "  fig.canvas.print_figure(bytes_io, **kw)\n"
     ]
    },
    {
     "data": {
      "image/png": "[encoded data removed]",
      "text/plain": [
       "<Figure size 432x288 with 1 Axes>"
      ]
     },
     "metadata": {
      "needs_background": "light"
     },
     "output_type": "display_data"
    }
   ],
   "source": [
    "\n",
    "import matplotlib.pyplot as plt\n",
    "\n",
    "# 创建一个新的图形对象\n",
    "fig, ax = plt.subplots()\n",
    "\n",
    "# 定义正方形的四个顶点坐标\n",
    "x = [1, 1, 2, 2, 1]  # x坐标\n",
    "y = [1, 2, 2, 1, 1]  # y坐标\n",
    "\n",
    "# 使用plt.plot()函数绘制正方形的边\n",
    "plt.plot(x, y, 'b-')  # 'b-' 表示蓝色实线\n",
    "\n",
    "# 设置图形的坐标轴范围\n",
    "plt.xlim(0.5, 2.5)\n",
    "plt.ylim(0.5, 2.5)\n",
    "\n",
    "# 添加标题和标签\n",
    "plt.title('正方形')\n",
    "plt.xlabel('X轴')\n",
    "plt.ylabel('Y轴')\n",
    "\n",
    "# 显示图形\n",
    "plt.grid(True)  # 显示网格线\n",
    "plt.show()"
   ]
  },
  {
   "cell_type": "code",
   "execution_count": null,
   "metadata": {},
   "outputs": [],
   "source": []
  }
 ],
 "metadata": {
  "kernelspec": {
   "display_name": "base",
   "language": "python",
   "name": "python3"
  },
  "language_info": {
   "codemirror_mode": {
    "name": "ipython",
    "version": 3
   },
   "file_extension": ".py",
   "mimetype": "text/x-python",
   "name": "python",
   "nbconvert_exporter": "python",
   "pygments_lexer": "ipython3",
   "version": "3.9.12"
  },
  "orig_nbformat": 4
 },
 "nbformat": 4,
 "nbformat_minor": 2
}
