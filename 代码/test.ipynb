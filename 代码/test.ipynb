{
 "cells": [
  {
   "cell_type": "code",
   "execution_count": 20,
   "metadata": {},
   "outputs": [
    {
     "name": "stdout",
     "output_type": "stream",
     "text": [
      "Invest_decision_problem\n",
      "Status youcans: Optimal\n",
      "A = 1.0\n",
      "B = 0.0\n",
      "C = 0.0\n",
      "D = 1.0\n",
      "E = 1.0\n",
      "Max f(x) = 410.0\n"
     ]
    }
   ],
   "source": [
    "\n",
    "\n",
    "\n",
    "\n",
    "# mathmodel06_v1.py\n",
    "# Demo05 of mathematical modeling algorithm\n",
    "# Solving 0-1 binary programming with PuLP.\n",
    "# Copyright 2021 Youcans, XUPT\n",
    "# Crated：2021-06-02\n",
    "# Python小白的数学建模课 @ Youcans\n",
    "\n",
    "import pulp      # 导入 pulp 库\n",
    "# solver_list = pulp.listSolvers()\n",
    "# solver = pulp.getSolver('GUROBI_CMD')\n",
    "\n",
    "\n",
    "# 主程序\n",
    "def main():\n",
    "    # 投资决策问题：\n",
    "    # 公司现有 5个拟投资项目，根据投资额、投资收益和限制条件，问如何决策使收益最大。\n",
    "    \"\"\"\n",
    "    问题建模：\n",
    "        决策变量：\n",
    "            x1～x5：0/1 变量，1 表示选择第 i 个项目， 0 表示不选择第 i 个项目\n",
    "        目标函数：\n",
    "            max fx = 150*x1 + 210*x2 + 60*x3 + 80*x4 + 180*x5\n",
    "        约束条件：\n",
    "            210*x1 + 300*x2 + 100*x3 + 130*x4 + 260*x5 <= 600\n",
    "            x1 + x2 + x3 = 1\n",
    "            x3 + x4 <= 1\n",
    "            x5 <= x1\n",
    "            x1,...,x5 = 0, 1\n",
    "    \"\"\"\n",
    "\n",
    "    #pulp.LpProblem(name='NoName', sense=LpMinimize)\n",
    "\n",
    "# 其函数的参数为name：在lp文件中写入的问题名称；\n",
    "# sense：最大或者最小，可为LpMinimize\\LpMaximize二者之一。\n",
    "\n",
    "    InvestLP = pulp.LpProblem(\"Invest decision problem\", sense=pulp.LpMaximize)  # 定义问题，求最大值\n",
    "    x1 = pulp.LpVariable('A', cat='Binary')  # 定义 x1，A 项目\n",
    "    x2 = pulp.LpVariable('B', cat='Binary')  # 定义 x2，B 项目\n",
    "    x3 = pulp.LpVariable('C', cat='Binary')  # 定义 x3，C 项目\n",
    "    x4 = pulp.LpVariable('D', cat='Binary')  # 定义 x4，D 项目\n",
    "    x5 = pulp.LpVariable('E', cat='Binary')  # 定义 x5，E 项目\n",
    "    InvestLP += (150*x1 + 210*x2 + 60*x3 + 80*x4 + 180*x5)  # 设置目标函数 f(x)\n",
    "    InvestLP += (210*x1 + 300*x2 + 100*x3 + 130*x4 + 260*x5 <= 600)  # 不等式约束\n",
    "    InvestLP += (x1 + x2 + x3 == 1)  # 等式约束\n",
    "    InvestLP += (x3 + x4 <= 1)  # 不等式约束\n",
    "    InvestLP += (x5 - x1 <= 0)  # 不等式约束\n",
    "    InvestLP.solve()\n",
    "    print(InvestLP.name)  # 输出求解状态\n",
    "    print(\"Status youcans:\", pulp.LpStatus[InvestLP.status])  # 输出求解状态\n",
    "    for v in InvestLP.variables():\n",
    "        print(v.name, \"=\", v.varValue)  # 输出每个变量的最优值\n",
    "    print(\"Max f(x) =\", pulp.value(InvestLP.objective))  # 输出最优解的目标函数值\n",
    "\n",
    "    return\n",
    "\n",
    "\n",
    "main()  # Python小白的数学建模课 @ Youcans\n"
   ]
  },
  {
   "cell_type": "code",
   "execution_count": 17,
   "metadata": {},
   "outputs": [
    {
     "name": "stdout",
     "output_type": "stream",
     "text": [
      "['GLPK_CMD', 'PYGLPK', 'CPLEX_CMD', 'CPLEX_PY', 'GUROBI', 'GUROBI_CMD', 'MOSEK', 'XPRESS', 'XPRESS', 'XPRESS_PY', 'PULP_CBC_CMD', 'COIN_CMD', 'COINMP_DLL', 'CHOCO_CMD', 'MIPCL_CMD', 'SCIP_CMD', 'HiGHS_CMD']\n"
     ]
    }
   ],
   "source": [
    "# 切换求解器\n",
    "import pulp as pl\n",
    "solver_list = pl.listSolvers()\n",
    "print(solver_list)"
   ]
  },
  {
   "cell_type": "code",
   "execution_count": 15,
   "metadata": {},
   "outputs": [
    {
     "ename": "PulpSolverError",
     "evalue": "PuLP: cannot execute cplex.exe",
     "output_type": "error",
     "traceback": [
      "\u001b[1;31m---------------------------------------------------------------------------\u001b[0m",
      "\u001b[1;31mPulpSolverError\u001b[0m                           Traceback (most recent call last)",
      "\u001b[1;32mc:\\Users\\Administrator\\Desktop\\数学建模\\代码\\test.ipynb 单元格 3\u001b[0m in \u001b[0;36m<cell line: 7>\u001b[1;34m()\u001b[0m\n\u001b[0;32m      <a href='vscode-notebook-cell:/c%3A/Users/Administrator/Desktop/%E6%95%B0%E5%AD%A6%E5%BB%BA%E6%A8%A1/%E4%BB%A3%E7%A0%81/test.ipynb#W2sZmlsZQ%3D%3D?line=4'>5</a>\u001b[0m _var2 \u001b[39m=\u001b[39m pl\u001b[39m.\u001b[39mLpVariable(\u001b[39m'\u001b[39m\u001b[39ma2\u001b[39m\u001b[39m'\u001b[39m)\n\u001b[0;32m      <a href='vscode-notebook-cell:/c%3A/Users/Administrator/Desktop/%E6%95%B0%E5%AD%A6%E5%BB%BA%E6%A8%A1/%E4%BB%A3%E7%A0%81/test.ipynb#W2sZmlsZQ%3D%3D?line=5'>6</a>\u001b[0m model \u001b[39m+\u001b[39m\u001b[39m=\u001b[39m _var \u001b[39m+\u001b[39m _var2 \u001b[39m==\u001b[39m \u001b[39m1\u001b[39m\n\u001b[1;32m----> <a href='vscode-notebook-cell:/c%3A/Users/Administrator/Desktop/%E6%95%B0%E5%AD%A6%E5%BB%BA%E6%A8%A1/%E4%BB%A3%E7%A0%81/test.ipynb#W2sZmlsZQ%3D%3D?line=6'>7</a>\u001b[0m result \u001b[39m=\u001b[39m model\u001b[39m.\u001b[39;49msolve(solver)\n",
      "File \u001b[1;32me:\\Anaconda\\Anaconda\\lib\\site-packages\\pulp\\pulp.py:1913\u001b[0m, in \u001b[0;36mLpProblem.solve\u001b[1;34m(self, solver, **kwargs)\u001b[0m\n\u001b[0;32m   1911\u001b[0m \u001b[39m# time it\u001b[39;00m\n\u001b[0;32m   1912\u001b[0m \u001b[39mself\u001b[39m\u001b[39m.\u001b[39mstartClock()\n\u001b[1;32m-> 1913\u001b[0m status \u001b[39m=\u001b[39m solver\u001b[39m.\u001b[39mactualSolve(\u001b[39mself\u001b[39m, \u001b[39m*\u001b[39m\u001b[39m*\u001b[39mkwargs)\n\u001b[0;32m   1914\u001b[0m \u001b[39mself\u001b[39m\u001b[39m.\u001b[39mstopClock()\n\u001b[0;32m   1915\u001b[0m \u001b[39mself\u001b[39m\u001b[39m.\u001b[39mrestoreObjective(wasNone, dummyVar)\n",
      "File \u001b[1;32me:\\Anaconda\\Anaconda\\lib\\site-packages\\pulp\\apis\\cplex_api.py:98\u001b[0m, in \u001b[0;36mCPLEX_CMD.actualSolve\u001b[1;34m(self, lp)\u001b[0m\n\u001b[0;32m     96\u001b[0m \u001b[39m\"\"\"Solve a well formulated lp problem\"\"\"\u001b[39;00m\n\u001b[0;32m     97\u001b[0m \u001b[39mif\u001b[39;00m \u001b[39mnot\u001b[39;00m \u001b[39mself\u001b[39m\u001b[39m.\u001b[39mexecutable(\u001b[39mself\u001b[39m\u001b[39m.\u001b[39mpath):\n\u001b[1;32m---> 98\u001b[0m     \u001b[39mraise\u001b[39;00m PulpSolverError(\u001b[39m\"\u001b[39m\u001b[39mPuLP: cannot execute \u001b[39m\u001b[39m\"\u001b[39m \u001b[39m+\u001b[39m \u001b[39mself\u001b[39m\u001b[39m.\u001b[39mpath)\n\u001b[0;32m     99\u001b[0m tmpLp, tmpSol, tmpMst \u001b[39m=\u001b[39m \u001b[39mself\u001b[39m\u001b[39m.\u001b[39mcreate_tmp_files(lp\u001b[39m.\u001b[39mname, \u001b[39m\"\u001b[39m\u001b[39mlp\u001b[39m\u001b[39m\"\u001b[39m, \u001b[39m\"\u001b[39m\u001b[39msol\u001b[39m\u001b[39m\"\u001b[39m, \u001b[39m\"\u001b[39m\u001b[39mmst\u001b[39m\u001b[39m\"\u001b[39m)\n\u001b[0;32m    100\u001b[0m vs \u001b[39m=\u001b[39m lp\u001b[39m.\u001b[39mwriteLP(tmpLp, writeSOS\u001b[39m=\u001b[39m\u001b[39m1\u001b[39m)\n",
      "\u001b[1;31mPulpSolverError\u001b[0m: PuLP: cannot execute cplex.exe"
     ]
    }
   ],
   "source": []
  },
  {
   "cell_type": "code",
   "execution_count": null,
   "metadata": {},
   "outputs": [],
   "source": []
  },
  {
   "cell_type": "code",
   "execution_count": null,
   "metadata": {},
   "outputs": [],
   "source": []
  },
  {
   "cell_type": "code",
   "execution_count": null,
   "metadata": {},
   "outputs": [],
   "source": []
  }
 ],
 "metadata": {
  "kernelspec": {
   "display_name": "base",
   "language": "python",
   "name": "python3"
  },
  "language_info": {
   "codemirror_mode": {
    "name": "ipython",
    "version": 3
   },
   "file_extension": ".py",
   "mimetype": "text/x-python",
   "name": "python",
   "nbconvert_exporter": "python",
   "pygments_lexer": "ipython3",
   "version": "3.9.12"
  },
  "orig_nbformat": 4
 },
 "nbformat": 4,
 "nbformat_minor": 2
}
